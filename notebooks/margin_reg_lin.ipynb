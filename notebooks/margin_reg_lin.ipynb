{
 "cells": [
  {
   "cell_type": "markdown",
   "id": "0714a86d",
   "metadata": {},
   "source": [
    "###Aqui iniciaremos el analisis del margen de SENSIA"
   ]
  }
 ],
 "metadata": {
  "language_info": {
   "name": "python"
  }
 },
 "nbformat": 4,
 "nbformat_minor": 5
}
